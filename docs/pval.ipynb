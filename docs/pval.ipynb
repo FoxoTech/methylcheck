{
 "cells": [
  {
   "cell_type": "code",
   "execution_count": 1,
   "metadata": {},
   "outputs": [],
   "source": [
    "# Run the following to sync data\n",
    "#!mkdir ~/GitHub/junk-drawer-analyses/geneseek_data\n",
    "#!aws s3 sync s3://legx-geneseek/technical-variation-projects/working-data/ ~/GitHub/junk-drawer-analyses/geneseek_data\n"
   ]
  },
  {
   "cell_type": "markdown",
   "metadata": {},
   "source": [
    "# Import modules"
   ]
  },
  {
   "cell_type": "code",
   "execution_count": 2,
   "metadata": {},
   "outputs": [],
   "source": [
    "from methylprep import run_pipeline\n",
    "from scipy import stats\n",
    "from statsmodels.distributions.empirical_distribution import ECDF\n",
    "import pandas as pd\n",
    "import numpy as np"
   ]
  },
  {
   "cell_type": "markdown",
   "metadata": {},
   "source": [
    "# Define functions"
   ]
  },
  {
   "cell_type": "code",
   "execution_count": 3,
   "metadata": {},
   "outputs": [],
   "source": [
    "def pval_minfi(data_containers):\n",
    "    \n",
    "    # Pull M and U values\n",
    "    meth = pd.DataFrame(data_containers[0]._SampleDataContainer__data_frame.index)\n",
    "    unmeth = pd.DataFrame(data_containers[0]._SampleDataContainer__data_frame.index)\n",
    "\n",
    "    for i,c in enumerate(data_containers):\n",
    "        sample = data_containers[i].sample\n",
    "        m = c._SampleDataContainer__data_frame.rename(columns={'meth':sample})\n",
    "        u = c._SampleDataContainer__data_frame.rename(columns={'unmeth':sample})\n",
    "        meth = pd.merge(left=meth,right=m[sample],left_on='IlmnID',right_on='IlmnID',)\n",
    "        unmeth = pd.merge(left=unmeth,right=u[sample],left_on='IlmnID',right_on='IlmnID')\n",
    "    \n",
    "    # Create empty dataframes for red and green negative controls\n",
    "    negctlsR = pd.DataFrame(data_containers[0].ctrl_red['Extended_Type'])\n",
    "    negctlsG = pd.DataFrame(data_containers[0].ctrl_green['Extended_Type'])\n",
    "\n",
    "    # Fill red and green dataframes\n",
    "    for i,c in enumerate(data_containers):\n",
    "        sample = str(data_containers[i].sample)\n",
    "        dfR = c.ctrl_red\n",
    "        dfR = dfR[dfR['Control_Type']=='NEGATIVE']\n",
    "        dfR = dfR[['Extended_Type','mean_value']].rename(columns={'mean_value':sample})\n",
    "        dfG = c.ctrl_green\n",
    "        dfG = dfG[dfG['Control_Type']=='NEGATIVE']\n",
    "        dfG = dfG[['Extended_Type','mean_value']].rename(columns={'mean_value':sample})\n",
    "        negctlsR = pd.merge(left=negctlsR,right=dfR,on='Extended_Type')\n",
    "        negctlsG = pd.merge(left=negctlsG,right=dfG,on='Extended_Type')\n",
    "\n",
    "    # Reset index on dataframes    \n",
    "    negctlsG = negctlsG.set_index('Extended_Type')\n",
    "    negctlsR = negctlsR.set_index('Extended_Type')\n",
    "    \n",
    "    # Get M and U values for IG, IR and II\n",
    "\n",
    "    # first pull out sections of manifest (will be used to identify which probes belong to each IG, IR, II)\n",
    "    manifest = data_containers[0].manifest.data_frame[['Infinium_Design_Type','Color_Channel']]\n",
    "    IG = manifest[(manifest['Color_Channel']=='Grn') & (manifest['Infinium_Design_Type']=='I')]\n",
    "    IR = manifest[(manifest['Color_Channel']=='Red') & (manifest['Infinium_Design_Type']=='I')]\n",
    "    II = manifest[manifest['Infinium_Design_Type']=='II']\n",
    "\n",
    "    # second merge with meth and unmeth dataframes\n",
    "    IG_meth = pd.merge(left=IG,right=meth,on='IlmnID').drop(columns=['Infinium_Design_Type','Color_Channel']).set_index('IlmnID')\n",
    "    IG_unmeth = pd.merge(left=IG,right=unmeth,on='IlmnID').drop(columns=['Infinium_Design_Type','Color_Channel']).set_index('IlmnID')\n",
    "    IR_meth = pd.merge(left=IR,right=meth,on='IlmnID').drop(columns=['Infinium_Design_Type','Color_Channel']).set_index('IlmnID')\n",
    "    IR_unmeth = pd.merge(left=IR,right=unmeth,on='IlmnID').drop(columns=['Infinium_Design_Type','Color_Channel']).set_index('IlmnID')\n",
    "    II_meth = pd.merge(left=II,right=meth,on='IlmnID').drop(columns=['Infinium_Design_Type','Color_Channel']).set_index('IlmnID')\n",
    "    II_unmeth = pd.merge(left=II,right=unmeth,on='IlmnID').drop(columns=['Infinium_Design_Type','Color_Channel']).set_index('IlmnID')\n",
    "    \n",
    "    # Calcuate parameters\n",
    "    sdG = stats.median_absolute_deviation(negctlsG)\n",
    "    muG = np.median(negctlsG,axis=0)\n",
    "    sdR = stats.median_absolute_deviation(negctlsR)\n",
    "    muR = np.median(negctlsR,axis=0)\n",
    "    \n",
    "    # calculate p values for type 1 Red\n",
    "    pIR = pd.DataFrame(index=IR_meth.index,\n",
    "                   data=1 - stats.norm.cdf(IR_meth+IR_unmeth,2*muR,2*sdR),\n",
    "                   columns=IR_meth.columns)\n",
    "\n",
    "    # calculate p values for type 1 Green\n",
    "    pIG = pd.DataFrame(index=IG_meth.index,\n",
    "                   data=1 - stats.norm.cdf(IG_meth+IG_unmeth,2*muG,2*sdG),\n",
    "                   columns=IG_meth.columns)\n",
    "\n",
    "    # calculat4e p values for type II\n",
    "    pII = pd.DataFrame(index=II_meth.index,\n",
    "                  data=1-stats.norm.cdf(II_meth+II_unmeth,muR+muG,sdR+sdG),\n",
    "                  columns=II_meth.columns)\n",
    "    # concat and sort\n",
    "    pval = pd.concat([pIR, pIG, pII])\n",
    "    pval = pval.sort_values(by='IlmnID')\n",
    "    return pval\n",
    "\n"
   ]
  },
  {
   "cell_type": "code",
   "execution_count": 4,
   "metadata": {},
   "outputs": [],
   "source": [
    "def pval_sesame(data_containers):\n",
    "    # Pull M and U values\n",
    "    meth = pd.DataFrame(data_containers[0]._SampleDataContainer__data_frame.index)\n",
    "    unmeth = pd.DataFrame(data_containers[0]._SampleDataContainer__data_frame.index)\n",
    "\n",
    "    for i,c in enumerate(data_containers):\n",
    "        sample = data_containers[i].sample\n",
    "        m = c._SampleDataContainer__data_frame.rename(columns={'meth':sample})\n",
    "        u = c._SampleDataContainer__data_frame.rename(columns={'unmeth':sample})\n",
    "        meth = pd.merge(left=meth,right=m[sample],left_on='IlmnID',right_on='IlmnID',)\n",
    "        unmeth = pd.merge(left=unmeth,right=u[sample],left_on='IlmnID',right_on='IlmnID')\n",
    "        \n",
    "    # Separate M and U values for IG, IR and II\n",
    "    # first pull out sections of manifest (will be used to identify which probes belong to each IG, IR, II)\n",
    "    manifest = data_containers[0].manifest.data_frame[['Infinium_Design_Type','Color_Channel']]\n",
    "    IG = manifest[(manifest['Color_Channel']=='Grn') & (manifest['Infinium_Design_Type']=='I')]\n",
    "    IR = manifest[(manifest['Color_Channel']=='Red') & (manifest['Infinium_Design_Type']=='I')]\n",
    "    II = manifest[manifest['Infinium_Design_Type']=='II']\n",
    "\n",
    "    # second merge with meth and unmeth dataframes\n",
    "    IG_meth = pd.merge(left=IG,right=meth,on='IlmnID').drop(columns=['Infinium_Design_Type','Color_Channel']).set_index('IlmnID')\n",
    "    IG_unmeth = pd.merge(left=IG,right=unmeth,on='IlmnID').drop(columns=['Infinium_Design_Type','Color_Channel']).set_index('IlmnID')\n",
    "    IR_meth = pd.merge(left=IR,right=meth,on='IlmnID').drop(columns=['Infinium_Design_Type','Color_Channel']).set_index('IlmnID')\n",
    "    IR_unmeth = pd.merge(left=IR,right=unmeth,on='IlmnID').drop(columns=['Infinium_Design_Type','Color_Channel']).set_index('IlmnID')\n",
    "    II_meth = pd.merge(left=II,right=meth,on='IlmnID').drop(columns=['Infinium_Design_Type','Color_Channel']).set_index('IlmnID')\n",
    "    II_unmeth = pd.merge(left=II,right=unmeth,on='IlmnID').drop(columns=['Infinium_Design_Type','Color_Channel']).set_index('IlmnID')\n",
    "    \n",
    "    pval = pd.DataFrame(data=manifest.index,columns=['IlmnID'])\n",
    "    for i,c in enumerate(data_containers):\n",
    "        funcG = ECDF(data_containers[i].oob_green['mean_value'].values)\n",
    "        funcR = ECDF(data_containers[i].oob_red['mean_value'].values)\n",
    "        sample = data_containers[i].sample\n",
    "        pIR = pd.DataFrame(index=IR_meth.index,data=1-np.maximum(funcR(IR_meth[sample]), funcR(IR_unmeth[sample])),columns=[sample])\n",
    "        pIG = pd.DataFrame(index=IG_meth.index,data=1-np.maximum(funcG(IG_meth[sample]), funcG(IG_unmeth[sample])),columns=[sample])\n",
    "        pII = pd.DataFrame(index=II_meth.index,data=1-np.maximum(funcG(II_meth[sample]), funcR(II_unmeth[sample])),columns=[sample])\n",
    "        p = pd.concat([pIR,pIG,pII]).reset_index()\n",
    "        pval = pd.merge(pval,p)\n",
    "    return pval"
   ]
  },
  {
   "cell_type": "markdown",
   "metadata": {},
   "source": [
    "# Run pipeline & calculate p-values"
   ]
  },
  {
   "cell_type": "markdown",
   "metadata": {},
   "source": [
    "## Project 1"
   ]
  },
  {
   "cell_type": "code",
   "execution_count": 5,
   "metadata": {},
   "outputs": [
    {
     "name": "stderr",
     "output_type": "stream",
     "text": [
      "100%|██████████| 8/8 [02:24<00:00, 18.09s/it]\n"
     ]
    }
   ],
   "source": [
    "# save beta values\n",
    "project_data_containers = run_pipeline(data_dir='../geneseek_data/Geneseek_HUMMETV01_20190714/',\n",
    "                                        betas=True,\n",
    "                                        sample_sheet_filepath='../geneseek_data/Geneseek_HUMMETV01_20190714/samplesheet.csv',\n",
    "                                   )\n",
    "!mv beta_values.pkl ../geneseek_data/Geneseek_HUMMETV01_20190714/\n"
   ]
  },
  {
   "cell_type": "code",
   "execution_count": 6,
   "metadata": {},
   "outputs": [
    {
     "name": "stderr",
     "output_type": "stream",
     "text": [
      "100%|██████████| 8/8 [02:31<00:00, 19.02s/it]\n"
     ]
    }
   ],
   "source": [
    "# get uncorrected values\n",
    "project_data_containers = run_pipeline(data_dir='../geneseek_data/Geneseek_HUMMETV01_20190714/',\n",
    "                                        save_uncorrected=True,\n",
    "                                        sample_sheet_filepath='../geneseek_data/Geneseek_HUMMETV01_20190714/samplesheet.csv',\n",
    "                                   )\n"
   ]
  },
  {
   "cell_type": "code",
   "execution_count": 7,
   "metadata": {},
   "outputs": [
    {
     "name": "stderr",
     "output_type": "stream",
     "text": [
      "//anaconda3/lib/python3.7/site-packages/scipy/stats/_distn_infrastructure.py:901: RuntimeWarning: invalid value encountered in greater\n",
      "  return (a < x) & (x < b)\n",
      "//anaconda3/lib/python3.7/site-packages/scipy/stats/_distn_infrastructure.py:901: RuntimeWarning: invalid value encountered in less\n",
      "  return (a < x) & (x < b)\n",
      "//anaconda3/lib/python3.7/site-packages/scipy/stats/_distn_infrastructure.py:1807: RuntimeWarning: invalid value encountered in greater_equal\n",
      "  cond2 = (x >= _b) & cond0\n"
     ]
    }
   ],
   "source": [
    "pval_minfi_df = pval_minfi(project_data_containers)\n",
    "pval_sesame_df = pval_sesame(project_data_containers)\n",
    "pval_minfi_df.to_csv('../geneseek_data/Geneseek_HUMMETV01_20190714/pvals_minfi.csv',index=True,header=True)\n",
    "pval_sesame_df.to_csv('../geneseek_data/Geneseek_HUMMETV01_20190714/pvals_sesame.csv',index=True,header=True)"
   ]
  },
  {
   "cell_type": "markdown",
   "metadata": {},
   "source": [
    "## Project 2"
   ]
  },
  {
   "cell_type": "code",
   "execution_count": 8,
   "metadata": {},
   "outputs": [
    {
     "name": "stderr",
     "output_type": "stream",
     "text": [
      "100%|██████████| 120/120 [37:38<00:00, 20.49s/it]\n"
     ]
    }
   ],
   "source": [
    "# save beta values\n",
    "project_data_containers = run_pipeline(data_dir='../geneseek_data/Geneseek_RND_HUMMETV01_20190923/',\n",
    "                                        betas=True,\n",
    "                                        sample_sheet_filepath='../geneseek_data/Geneseek_RND_HUMMETV01_20190923/samplesheet.csv')\n",
    "\n",
    "!mv beta_values* ../geneseek_data/Geneseek_RND_HUMMETV01_20190923/\n"
   ]
  },
  {
   "cell_type": "code",
   "execution_count": 9,
   "metadata": {},
   "outputs": [
    {
     "name": "stderr",
     "output_type": "stream",
     "text": [
      "100%|██████████| 120/120 [39:56<00:00, 24.27s/it]\n"
     ]
    }
   ],
   "source": [
    "# get uncorrected values\n",
    "project_data_containers = run_pipeline(data_dir='../geneseek_data/Geneseek_RND_HUMMETV01_20190923/',\n",
    "                                        save_uncorrected=True,\n",
    "                                        sample_sheet_filepath='../geneseek_data/Geneseek_RND_HUMMETV01_20190923/samplesheet.csv')\n"
   ]
  },
  {
   "cell_type": "code",
   "execution_count": 10,
   "metadata": {},
   "outputs": [],
   "source": [
    "pval_minfi_df = pval_minfi(project_data_containers)\n",
    "pval_sesame_df = pval_sesame(project_data_containers)\n",
    "pval_minfi_df.to_csv('../geneseek_data/Geneseek_RND_HUMMETV01_20190923/pvals_minfi.csv',index=True,header=True)\n",
    "pval_sesame_df.to_csv('../geneseek_data/Geneseek_RND_HUMMETV01_20190923/pvals_sesame.csv',index=True,header=True)"
   ]
  },
  {
   "cell_type": "markdown",
   "metadata": {},
   "source": [
    "## Project 3"
   ]
  },
  {
   "cell_type": "code",
   "execution_count": 11,
   "metadata": {},
   "outputs": [
    {
     "name": "stderr",
     "output_type": "stream",
     "text": [
      "100%|██████████| 8/8 [02:22<00:00, 17.83s/it]\n"
     ]
    }
   ],
   "source": [
    "project_data_containers = run_pipeline(data_dir='../geneseek_data/Geneseek_HUMMETV01_20190903/',\n",
    "                                        betas=True,\n",
    "                                        sample_sheet_filepath='../geneseek_data/Geneseek_HUMMETV01_20190903/samplesheet.csv')\n",
    "\n",
    "!mv beta_values* ../geneseek_data/Geneseek_HUMMETV01_20190903/\n"
   ]
  },
  {
   "cell_type": "code",
   "execution_count": 12,
   "metadata": {},
   "outputs": [
    {
     "name": "stderr",
     "output_type": "stream",
     "text": [
      "100%|██████████| 8/8 [02:34<00:00, 19.20s/it]\n"
     ]
    }
   ],
   "source": [
    "project_data_containers = run_pipeline(data_dir='../geneseek_data/Geneseek_HUMMETV01_20190903/',\n",
    "                                        save_uncorrected=True,\n",
    "                                        sample_sheet_filepath='../geneseek_data/Geneseek_HUMMETV01_20190903/samplesheet.csv')\n",
    "\n"
   ]
  },
  {
   "cell_type": "code",
   "execution_count": 13,
   "metadata": {},
   "outputs": [],
   "source": [
    "pval_minfi_df = pval_minfi(project_data_containers)\n",
    "pval_sesame_df = pval_sesame(project_data_containers)\n",
    "pval_minfi_df.to_csv('../geneseek_data/Geneseek_HUMMETV01_20190903/pvals_minfi.csv',index=True,header=True)\n",
    "pval_sesame_df.to_csv('../geneseek_data/Geneseek_HUMMETV01_20190903/pvals_sesame.csv',index=True,header=True)"
   ]
  },
  {
   "cell_type": "markdown",
   "metadata": {},
   "source": [
    "## Project 4"
   ]
  },
  {
   "cell_type": "code",
   "execution_count": 14,
   "metadata": {},
   "outputs": [
    {
     "name": "stderr",
     "output_type": "stream",
     "text": [
      "100%|██████████| 16/16 [04:51<00:00, 18.38s/it]\n"
     ]
    }
   ],
   "source": [
    "project_data_containers = run_pipeline(data_dir = '../geneseek_data/Geneseek_RND_2_HUMMETV01_20191014/',\n",
    "                                       betas=True,\n",
    "                                       sample_sheet_filepath='../geneseek_data/Geneseek_RND_2_HUMMETV01_20191014/samplesheet.csv')\n",
    "\n",
    "!mv beta_values* ../geneseek_data/Geneseek_RND_2_HUMMETV01_20191014/                                       \n",
    "    "
   ]
  },
  {
   "cell_type": "code",
   "execution_count": 15,
   "metadata": {},
   "outputs": [
    {
     "name": "stderr",
     "output_type": "stream",
     "text": [
      "100%|██████████| 16/16 [05:04<00:00, 19.05s/it]\n"
     ]
    }
   ],
   "source": [
    "project_data_containers = run_pipeline(data_dir = '../geneseek_data/Geneseek_RND_2_HUMMETV01_20191014/',\n",
    "                                       save_uncorrected=True,\n",
    "                                       sample_sheet_filepath='../geneseek_data/Geneseek_RND_2_HUMMETV01_20191014/samplesheet.csv')\n",
    "\n"
   ]
  },
  {
   "cell_type": "code",
   "execution_count": 17,
   "metadata": {},
   "outputs": [],
   "source": [
    "pval_minfi_df = pval_minfi(project_data_containers)\n",
    "pval_sesame_df = pval_sesame(project_data_containers)\n",
    "pval_minfi_df.to_csv('../geneseek_data/Geneseek_RND_2_HUMMETV01_20191014/pvals_minfi.csv',index=True,header=True)\n",
    "pval_sesame_df.to_csv('../geneseek_data/Geneseek_RND_2_HUMMETV01_20191014/pvals_sesame.csv',index=True,header=True)"
   ]
  },
  {
   "cell_type": "code",
   "execution_count": null,
   "metadata": {},
   "outputs": [],
   "source": []
  }
 ],
 "metadata": {
  "kernelspec": {
   "display_name": "Python 3",
   "language": "python",
   "name": "python3"
  },
  "language_info": {
   "codemirror_mode": {
    "name": "ipython",
    "version": 3
   },
   "file_extension": ".py",
   "mimetype": "text/x-python",
   "name": "python",
   "nbconvert_exporter": "python",
   "pygments_lexer": "ipython3",
   "version": "3.7.3"
  }
 },
 "nbformat": 4,
 "nbformat_minor": 2
}
